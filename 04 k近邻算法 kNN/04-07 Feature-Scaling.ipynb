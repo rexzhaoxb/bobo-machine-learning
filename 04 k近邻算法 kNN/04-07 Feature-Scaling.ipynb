{
 "cells": [
  {
   "cell_type": "markdown",
   "metadata": {},
   "source": [
    "## 数据归一化处理"
   ]
  },
  {
   "cell_type": "code",
   "execution_count": 1,
   "metadata": {},
   "outputs": [],
   "source": [
    "import numpy as np\n",
    "import matplotlib.pyplot as plt"
   ]
  },
  {
   "cell_type": "markdown",
   "metadata": {},
   "source": [
    "### 最值归一化  normalization"
   ]
  },
  {
   "cell_type": "code",
   "execution_count": 2,
   "metadata": {},
   "outputs": [
    {
     "data": {
      "text/plain": [
       "array([31, 71, 75, 11, 85, 71, 31,  3, 43, 96, 41, 85, 76,  4, 46, 82, 66,\n",
       "       35, 17, 12, 72, 52, 92, 34, 35, 72, 85,  1, 89, 20, 55, 70, 11, 99,\n",
       "       80,  9, 18, 95, 67, 45, 34, 98, 70,  0,  6, 48, 31, 61, 57, 75, 68,\n",
       "       91,  0, 30, 56, 12, 50, 88, 96, 45, 67, 48, 52, 67, 23, 68, 84, 75,\n",
       "       55, 45, 44, 60, 38, 80, 29, 11, 63, 54, 98, 89,  9, 17, 39, 25, 44,\n",
       "       19, 72, 82, 70, 32, 35, 17, 10, 94, 18, 73, 36, 38, 22, 61])"
      ]
     },
     "execution_count": 2,
     "metadata": {},
     "output_type": "execute_result"
    }
   ],
   "source": [
    "x = np.random.randint(0, 100, size=100)\n",
    "x"
   ]
  },
  {
   "cell_type": "code",
   "execution_count": 3,
   "metadata": {},
   "outputs": [
    {
     "data": {
      "text/plain": [
       "array([0.31313131, 0.71717172, 0.75757576, 0.11111111, 0.85858586,\n",
       "       0.71717172, 0.31313131, 0.03030303, 0.43434343, 0.96969697,\n",
       "       0.41414141, 0.85858586, 0.76767677, 0.04040404, 0.46464646,\n",
       "       0.82828283, 0.66666667, 0.35353535, 0.17171717, 0.12121212,\n",
       "       0.72727273, 0.52525253, 0.92929293, 0.34343434, 0.35353535,\n",
       "       0.72727273, 0.85858586, 0.01010101, 0.8989899 , 0.2020202 ,\n",
       "       0.55555556, 0.70707071, 0.11111111, 1.        , 0.80808081,\n",
       "       0.09090909, 0.18181818, 0.95959596, 0.67676768, 0.45454545,\n",
       "       0.34343434, 0.98989899, 0.70707071, 0.        , 0.06060606,\n",
       "       0.48484848, 0.31313131, 0.61616162, 0.57575758, 0.75757576,\n",
       "       0.68686869, 0.91919192, 0.        , 0.3030303 , 0.56565657,\n",
       "       0.12121212, 0.50505051, 0.88888889, 0.96969697, 0.45454545,\n",
       "       0.67676768, 0.48484848, 0.52525253, 0.67676768, 0.23232323,\n",
       "       0.68686869, 0.84848485, 0.75757576, 0.55555556, 0.45454545,\n",
       "       0.44444444, 0.60606061, 0.38383838, 0.80808081, 0.29292929,\n",
       "       0.11111111, 0.63636364, 0.54545455, 0.98989899, 0.8989899 ,\n",
       "       0.09090909, 0.17171717, 0.39393939, 0.25252525, 0.44444444,\n",
       "       0.19191919, 0.72727273, 0.82828283, 0.70707071, 0.32323232,\n",
       "       0.35353535, 0.17171717, 0.1010101 , 0.94949495, 0.18181818,\n",
       "       0.73737374, 0.36363636, 0.38383838, 0.22222222, 0.61616162])"
      ]
     },
     "execution_count": 3,
     "metadata": {},
     "output_type": "execute_result"
    }
   ],
   "source": [
    "(x - np.min(x)) / (np.max(x) - np.min(x))"
   ]
  },
  {
   "cell_type": "code",
   "execution_count": 15,
   "metadata": {},
   "outputs": [
    {
     "data": {
      "text/plain": [
       "array([[30, 82],\n",
       "       [48, 49],\n",
       "       [41, 84],\n",
       "       [31, 11],\n",
       "       [56, 71],\n",
       "       [25,  7],\n",
       "       [86, 94],\n",
       "       [89, 57],\n",
       "       [60, 22],\n",
       "       [62, 60]])"
      ]
     },
     "execution_count": 15,
     "metadata": {},
     "output_type": "execute_result"
    }
   ],
   "source": [
    "# 对于一个特征矩阵，也可以在一个维度上做归一化处理\n",
    "X = np.random.randint(0, 100, (50, 2))\n",
    "X[:10,]"
   ]
  },
  {
   "cell_type": "code",
   "execution_count": 16,
   "metadata": {},
   "outputs": [
    {
     "data": {
      "text/plain": [
       "array([[30., 82.],\n",
       "       [48., 49.],\n",
       "       [41., 84.],\n",
       "       [31., 11.],\n",
       "       [56., 71.],\n",
       "       [25.,  7.],\n",
       "       [86., 94.],\n",
       "       [89., 57.],\n",
       "       [60., 22.],\n",
       "       [62., 60.]])"
      ]
     },
     "execution_count": 16,
     "metadata": {},
     "output_type": "execute_result"
    }
   ],
   "source": [
    "# 先转为 浮点数\n",
    "X = np.array(X, dtype=float)\n",
    "X[:10, :]"
   ]
  },
  {
   "cell_type": "code",
   "execution_count": 19,
   "metadata": {},
   "outputs": [
    {
     "data": {
      "text/plain": [
       "array([0.3030303 , 0.48484848, 0.41414141, 0.31313131, 0.56565657,\n",
       "       0.25252525, 0.86868687, 0.8989899 , 0.60606061, 0.62626263])"
      ]
     },
     "execution_count": 19,
     "metadata": {},
     "output_type": "execute_result"
    }
   ],
   "source": [
    "# 处理第一个特征\n",
    "X[:, 0] = (X[:, 0] - np.min(X[:, 0])) / (np.max(X[:, 0]) - np.min(X[:, 0]))\n",
    "X[:10, 0]"
   ]
  },
  {
   "cell_type": "code",
   "execution_count": 21,
   "metadata": {},
   "outputs": [
    {
     "data": {
      "text/plain": [
       "array([0.83870968, 0.48387097, 0.86021505, 0.07526882, 0.72043011,\n",
       "       0.03225806, 0.96774194, 0.56989247, 0.19354839, 0.60215054])"
      ]
     },
     "execution_count": 21,
     "metadata": {},
     "output_type": "execute_result"
    }
   ],
   "source": [
    "# 处理第二个特征\n",
    "X[:, 1] = (X[:, 1] - np.min(X[:, 1])) / (np.max(X[:, 1]) - np.min(X[:, 1]))\n",
    "X[:10, 1]"
   ]
  },
  {
   "cell_type": "code",
   "execution_count": 22,
   "metadata": {},
   "outputs": [
    {
     "data": {
      "image/png": "[encoded data removed]",
      "text/plain": [
       "<Figure size 432x288 with 1 Axes>"
      ]
     },
     "metadata": {
      "needs_background": "light"
     },
     "output_type": "display_data"
    }
   ],
   "source": [
    "# 从散点图上看，横坐标和纵坐标都是在 0~1 之间的\n",
    "plt.scatter(X[:, 0], X[:, 1])\n",
    "plt.show()"
   ]
  },
  {
   "cell_type": "code",
   "execution_count": 23,
   "metadata": {},
   "outputs": [
    {
     "data": {
      "text/plain": [
       "0.49757575757575756"
      ]
     },
     "execution_count": 23,
     "metadata": {},
     "output_type": "execute_result"
    }
   ],
   "source": [
    "np.mean(X[:, 0])"
   ]
  },
  {
   "cell_type": "code",
   "execution_count": 26,
   "metadata": {},
   "outputs": [
    {
     "data": {
      "text/plain": [
       "0.27159367851923777"
      ]
     },
     "execution_count": 26,
     "metadata": {},
     "output_type": "execute_result"
    }
   ],
   "source": [
    "np.std(X[:, 0])"
   ]
  },
  {
   "cell_type": "code",
   "execution_count": 27,
   "metadata": {},
   "outputs": [
    {
     "data": {
      "text/plain": [
       "0.4559139784946236"
      ]
     },
     "execution_count": 27,
     "metadata": {},
     "output_type": "execute_result"
    }
   ],
   "source": [
    "np.mean(X[:, 1])"
   ]
  },
  {
   "cell_type": "code",
   "execution_count": 29,
   "metadata": {},
   "outputs": [
    {
     "data": {
      "text/plain": [
       "0.3305537945273432"
      ]
     },
     "execution_count": 29,
     "metadata": {},
     "output_type": "execute_result"
    }
   ],
   "source": [
    "np.std(X[:, 1])"
   ]
  },
  {
   "cell_type": "markdown",
   "metadata": {},
   "source": [
    "### 均值方差归一化  standardization"
   ]
  },
  {
   "cell_type": "code",
   "execution_count": 30,
   "metadata": {},
   "outputs": [
    {
     "data": {
      "text/plain": [
       "array([[29., 74.],\n",
       "       [81., 69.],\n",
       "       [65., 23.],\n",
       "       [15., 17.],\n",
       "       [86.,  4.],\n",
       "       [98., 87.],\n",
       "       [70.,  6.],\n",
       "       [57., 71.],\n",
       "       [47., 74.],\n",
       "       [29., 85.]])"
      ]
     },
     "execution_count": 30,
     "metadata": {},
     "output_type": "execute_result"
    }
   ],
   "source": [
    "X2 = np.random.randint(0, 100, (50, 2))\n",
    "X2 = np.array(X2, dtype=float)\n",
    "X2[:10,]"
   ]
  },
  {
   "cell_type": "code",
   "execution_count": 33,
   "metadata": {},
   "outputs": [
    {
     "data": {
      "text/plain": [
       "array([-0.78780475,  1.14454652,  0.5499769 , -1.30805317,  1.33034953,\n",
       "        1.77627675,  0.73577991,  0.25269209, -0.11891392, -0.78780475])"
      ]
     },
     "execution_count": 33,
     "metadata": {},
     "output_type": "execute_result"
    }
   ],
   "source": [
    "# 处理第一个特征\n",
    "X2[:, 0] = (X2[:, 0] - np.mean(X2[:, 0])) / np.std(X2[:, 0])\n",
    "X2[:10, 0]"
   ]
  },
  {
   "cell_type": "code",
   "execution_count": 35,
   "metadata": {},
   "outputs": [
    {
     "data": {
      "text/plain": [
       "array([ 0.60572815,  0.44272273, -1.05692717, -1.25253368, -1.67634778,\n",
       "        1.02954226, -1.61114561,  0.5079249 ,  0.60572815,  0.96434009])"
      ]
     },
     "execution_count": 35,
     "metadata": {},
     "output_type": "execute_result"
    }
   ],
   "source": [
    "# 处理第二个特征\n",
    "X2[:, 1] = (X2[:, 1] - np.mean(X2[:, 1])) / np.std(X2[:, 1])\n",
    "X2[:10, 1]"
   ]
  },
  {
   "cell_type": "code",
   "execution_count": 37,
   "metadata": {},
   "outputs": [
    {
     "data": {
      "image/png": "[encoded data removed]",
      "text/plain": [
       "<Figure size 432x288 with 1 Axes>"
      ]
     },
     "metadata": {
      "needs_background": "light"
     },
     "output_type": "display_data"
    }
   ],
   "source": [
    "# 也画出来\n",
    "plt.scatter(X2[:, 0], X2[:, 1])\n",
    "plt.show()"
   ]
  },
  {
   "cell_type": "code",
   "execution_count": 39,
   "metadata": {},
   "outputs": [
    {
     "data": {
      "text/plain": [
       "3.552713678800501e-17"
      ]
     },
     "execution_count": 39,
     "metadata": {},
     "output_type": "execute_result"
    }
   ],
   "source": [
    "np.mean(X2[:, 0])"
   ]
  },
  {
   "cell_type": "code",
   "execution_count": 41,
   "metadata": {},
   "outputs": [
    {
     "data": {
      "text/plain": [
       "1.0"
      ]
     },
     "execution_count": 41,
     "metadata": {},
     "output_type": "execute_result"
    }
   ],
   "source": [
    "np.std(X2[:, 0])"
   ]
  },
  {
   "cell_type": "code",
   "execution_count": 42,
   "metadata": {},
   "outputs": [
    {
     "data": {
      "text/plain": [
       "-5.10702591327572e-17"
      ]
     },
     "execution_count": 42,
     "metadata": {},
     "output_type": "execute_result"
    }
   ],
   "source": [
    "np.mean(X2[:, 1])"
   ]
  },
  {
   "cell_type": "code",
   "execution_count": 43,
   "metadata": {},
   "outputs": [
    {
     "data": {
      "text/plain": [
       "1.0"
      ]
     },
     "execution_count": 43,
     "metadata": {},
     "output_type": "execute_result"
    }
   ],
   "source": [
    "np.std(X2[:, 1])"
   ]
  }
 ],
 "metadata": {
  "kernelspec": {
   "display_name": "Python 3",
   "language": "python",
   "name": "python3"
  },
  "language_info": {
   "codemirror_mode": {
    "name": "ipython",
    "version": 3
   },
   "file_extension": ".py",
   "mimetype": "text/x-python",
   "name": "python",
   "nbconvert_exporter": "python",
   "pygments_lexer": "ipython3",
   "version": "3.7.4"
  }
 },
 "nbformat": 4,
 "nbformat_minor": 2
}
